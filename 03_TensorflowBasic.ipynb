{
 "cells": [
  {
   "cell_type": "code",
   "execution_count": 14,
   "metadata": {
    "collapsed": true
   },
   "outputs": [],
   "source": [
    "import tensorflow as tf\n",
    "import numpy as np"
   ]
  },
  {
   "cell_type": "code",
   "execution_count": 15,
   "metadata": {
    "collapsed": false
   },
   "outputs": [],
   "source": [
    "graph = tf.Graph()\n",
    "with graph.as_default() : \n",
    "    x = tf.constant([1])\n",
    "    w = tf.constant([2])\n",
    "    z = tf.multiply(x, w)\n",
    "    b = tf.constant([3])\n",
    "    y = tf.add(z, b)"
   ]
  },
  {
   "cell_type": "code",
   "execution_count": 16,
   "metadata": {
    "collapsed": false
   },
   "outputs": [
    {
     "name": "stdout",
     "output_type": "stream",
     "text": [
      "[5] [2]\n"
     ]
    }
   ],
   "source": [
    "with tf.Session(graph=graph) as session : \n",
    "    y, z = session.run([y, z])\n",
    "\n",
    "print(y, z)"
   ]
  },
  {
   "cell_type": "code",
   "execution_count": 17,
   "metadata": {
    "collapsed": false
   },
   "outputs": [
    {
     "name": "stdout",
     "output_type": "stream",
     "text": [
      "WARNING:tensorflow:From <ipython-input-17-e33a2e4236bc>:5: initialize_all_variables (from tensorflow.python.ops.variables) is deprecated and will be removed after 2017-03-02.\n",
      "Instructions for updating:\n",
      "Use `tf.global_variables_initializer` instead.\n",
      "[40 45 50]\n"
     ]
    }
   ],
   "source": [
    "try :\n",
    "    x = tf.constant([35, 40, 45], name='x')\n",
    "    y = tf.Variable(x + 5, name='y')\n",
    "    # 지금까지 정의한 변수를 Session 에서 사용할 수 있도록 초기화 합니다\n",
    "    model = tf.initialize_all_variables()\n",
    "    # with Session as 구분 사용시 Session 종료는 자동\n",
    "    with tf.Session() as session:\n",
    "        session.run(model)\n",
    "        print(session.run(y))\n",
    "except:\n",
    "    print(\"ERROR-2\")"
   ]
  },
  {
   "cell_type": "code",
   "execution_count": null,
   "metadata": {
    "collapsed": true
   },
   "outputs": [],
   "source": []
  }
 ],
 "metadata": {
  "anaconda-cloud": {},
  "kernelspec": {
   "display_name": "Python [default]",
   "language": "python",
   "name": "python3"
  },
  "language_info": {
   "codemirror_mode": {
    "name": "ipython",
    "version": 3
   },
   "file_extension": ".py",
   "mimetype": "text/x-python",
   "name": "python",
   "nbconvert_exporter": "python",
   "pygments_lexer": "ipython3",
   "version": "3.5.2"
  }
 },
 "nbformat": 4,
 "nbformat_minor": 1
}
