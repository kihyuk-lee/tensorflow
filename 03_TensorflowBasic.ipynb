{
 "cells": [
  {
   "cell_type": "code",
   "execution_count": 27,
   "metadata": {
    "collapsed": true
   },
   "outputs": [],
   "source": [
    "import tensorflow as tf\n",
    "import numpy as np"
   ]
  },
  {
   "cell_type": "markdown",
   "metadata": {},
   "source": [
    "# Overview\n",
    "* 데이터는 tensor라는 단위로 구성 ( tensor = 다차원 데이터배열 )\n",
    "* 연산은 graph로 표현\n",
    "* graph는 Session 내에서 실행    \n",
    "\n",
    "\n",
    "\n",
    "* 즉, graph로 연산을 구현하는 프로그래밍\n",
    " * graph는 node와 edge로 이루어지며, node를 op라고 부름(operation)\n",
    " * op는 0~N개의 tensor를 가질 수 있고, tensor를 만들수 있고 연산을 수행할 수 있음\n",
    " * graph에서의 작업들(op)간에는 tensor로만 데이터를 주고받을 수 있음    \n",
    " \n",
    " \n",
    "* Session은 graph의 작업(op)을 Cpu나 Gpu에 할당하고, 실행    \n",
    "\n",
    "\n",
    "* Tensorflow 프로그램은 보통 2단계로 구성\n",
    " * contruction phase : 구성단계, graph를 조립\n",
    " * execcution phase : 실행단계, graph와 op를 실행\n",
    "\n"
   ]
  },
  {
   "cell_type": "markdown",
   "metadata": {},
   "source": [
    "# Example 1. \n",
    "* tensor 생성 및 session을 통한 연산"
   ]
  },
  {
   "cell_type": "code",
   "execution_count": 37,
   "metadata": {
    "collapsed": false
   },
   "outputs": [
    {
     "name": "stdout",
     "output_type": "stream",
     "text": [
      "[[ 23.]] <class 'numpy.ndarray'>\n",
      "[array([[ 23.]], dtype=float32)]\n"
     ]
    }
   ],
   "source": [
    "##------------------------ construction phase\n",
    "# 1x2 행렬\n",
    "matrix_a = tf.constant([[2., 3.]])  # op=constant , tensor=matrix_a\n",
    "# 2x1 행렬\n",
    "matrix_b = tf.constant([[4.], [5.]])\n",
    "\n",
    "# 행렬곱 = matmul\n",
    "op_mul = tf.matmul(matrix_a, matrix_b) # op=matmul,  tensor=op_mul\n",
    "\n",
    "\n",
    "##------------------------ execution phase : explicit session\n",
    "sess = tf.Session()  # default graph 를 생성 (implicit)\n",
    "\n",
    "resultset = sess.run(op_mul)\n",
    "print(resultset, type(resultset))\n",
    "\n",
    "sess.close()\n",
    "\n",
    "\n",
    "##------------------------ execution phase : implicit session\n",
    "with tf.Session() as sess :\n",
    "    resultset = sess.run([op_mul])\n",
    "    print(resultset)\n",
    "\n"
   ]
  },
  {
   "cell_type": "markdown",
   "metadata": {},
   "source": [
    "# Example 2.\n",
    "* 상수변수와 default graph 생성을 통한 연산"
   ]
  },
  {
   "cell_type": "code",
   "execution_count": 48,
   "metadata": {
    "collapsed": false
   },
   "outputs": [],
   "source": [
    "graph = tf.Graph()\n",
    "with graph.as_default() : \n",
    "    x = tf.constant([1])  # op = constant , x = tensor\n",
    "    w = tf.constant([2])\n",
    "    z = tf.multiply(x, w) \n",
    "    b = tf.constant([3])\n",
    "    y = tf.add(z, b)"
   ]
  },
  {
   "cell_type": "code",
   "execution_count": 49,
   "metadata": {
    "collapsed": false
   },
   "outputs": [
    {
     "name": "stdout",
     "output_type": "stream",
     "text": [
      "[5] [2]\n"
     ]
    }
   ],
   "source": [
    "# default graph가 아닌 기생성된 graph를 활용\n",
    "with tf.Session(graph=graph) as session : \n",
    "    y, z = session.run([y, z])\n",
    "\n",
    "print(y, z)"
   ]
  },
  {
   "cell_type": "markdown",
   "metadata": {},
   "source": [
    "# Exmaple 3.\n",
    "* 변수 생성과 초기화를 통한 연산\n",
    "* 변수를 생성한 후에는 초기화 작업이 반드시 필요함 "
   ]
  },
  {
   "cell_type": "code",
   "execution_count": 139,
   "metadata": {
    "collapsed": false
   },
   "outputs": [],
   "source": [
    "graph = tf.Graph()\n",
    "with graph.as_default() :\n",
    "    x = tf.constant([1])\n",
    "    w = tf.Variable(tf.constant([2]))\n",
    "    z = tf.multiply(x, w)\n",
    "    b = tf.constant([3])\n",
    "    y = tf.add(z, b)\n",
    "    init_op = tf.global_variables_initializer()"
   ]
  },
  {
   "cell_type": "code",
   "execution_count": 140,
   "metadata": {
    "collapsed": false
   },
   "outputs": [
    {
     "name": "stdout",
     "output_type": "stream",
     "text": [
      "[12] [9]\n"
     ]
    }
   ],
   "source": [
    "with tf.Session(graph=graph) as sess :\n",
    "    sess.run(init_op) # initialize\n",
    "    y, z = sess.run([y, z])\n",
    "    print(y, z)"
   ]
  },
  {
   "cell_type": "markdown",
   "metadata": {},
   "source": [
    "# Example 4.\n",
    "* placeholder tensor를 사용한 변수처리"
   ]
  },
  {
   "cell_type": "code",
   "execution_count": 137,
   "metadata": {
    "collapsed": false
   },
   "outputs": [],
   "source": [
    "graph = tf.Graph()\n",
    "with graph.as_default() :\n",
    "    x = tf.placeholder(dtype=tf.int32)\n",
    "    w = tf.Variable(tf.constant([2]))\n",
    "    z = tf.multiply(x, w)\n",
    "    b = tf.constant([3])\n",
    "    y = tf.add(z, b)"
   ]
  },
  {
   "cell_type": "code",
   "execution_count": 138,
   "metadata": {
    "collapsed": false
   },
   "outputs": [
    {
     "name": "stdout",
     "output_type": "stream",
     "text": [
      "[5] [2]\n"
     ]
    }
   ],
   "source": [
    "with tf.Session(graph=graph) as sess : \n",
    "    tf.global_variables_initializer().run()\n",
    "    feed_dict_val = {x: [1]}\n",
    "    y, z = sess.run([y, z], feed_dict=feed_dict_val)\n",
    "    print(y, z)\n",
    "    "
   ]
  },
  {
   "cell_type": "code",
   "execution_count": null,
   "metadata": {
    "collapsed": true
   },
   "outputs": [],
   "source": []
  }
 ],
 "metadata": {
  "anaconda-cloud": {},
  "kernelspec": {
   "display_name": "Python [default]",
   "language": "python",
   "name": "python3"
  },
  "language_info": {
   "codemirror_mode": {
    "name": "ipython",
    "version": 3
   },
   "file_extension": ".py",
   "mimetype": "text/x-python",
   "name": "python",
   "nbconvert_exporter": "python",
   "pygments_lexer": "ipython3",
   "version": "3.5.2"
  }
 },
 "nbformat": 4,
 "nbformat_minor": 1
}
