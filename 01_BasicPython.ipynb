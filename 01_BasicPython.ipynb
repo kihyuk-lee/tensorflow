{
 "cells": [
  {
   "cell_type": "code",
   "execution_count": 65,
   "metadata": {
    "collapsed": false
   },
   "outputs": [],
   "source": [
    "import sys\n",
    "import numpy as np\n",
    "import random as random"
   ]
  },
  {
   "cell_type": "markdown",
   "metadata": {},
   "source": [
    "##### 문법예제 : 함수 / 반복문 / 집합,리스트,튜플,사전"
   ]
  },
  {
   "cell_type": "code",
   "execution_count": 70,
   "metadata": {
    "collapsed": false
   },
   "outputs": [],
   "source": [
    "# 함수선언/조건문/반복문뒤에는 콜론(:)사용\n",
    "# 들여쓰기로 블록을 구분하며 {}를 사용하지 않는다\n",
    "\n",
    "def loopExample(numSet) :    \n",
    "       \n",
    "    # for문 예제\n",
    "    for i in range(numSet) :        \n",
    "        # 집합생성\n",
    "        resultSet = set()  #하드코딩시 ex) resultSet = {1,2,3}\n",
    "        \n",
    "        # 5개의 집합을 생성\n",
    "        while len(resultSet) <= 5 :\n",
    "            # random value\n",
    "            resultSet.add(random.randrange(1, 100))\n",
    "            # 집합을 list로 변경\n",
    "            resultList = list(resultSet) #하드코딩시 ex) resultList = [1,2,3]\n",
    "            # 정렬\n",
    "            resultList.sort\n",
    "        \n",
    "        # tuple생성\n",
    "        resultTuple = (resultList[0], resultList[1]) #생성자 ex) resultTuple = tuple()\n",
    "        \n",
    "        # dict생성\n",
    "        resultDict = dict(dic1 = resultList[0], dic2 = resultList[1]) #하드코딩시 ex) resultDict = {\"dict\"1 : 1 , \"dict2\" : 2}\n",
    "        \n",
    "        print(type(resultSet), resultSet) #집합\n",
    "        print(type(resultList) , resultList) #리스트\n",
    "        print(type(resultTuple), resultTuple) #튜플\n",
    "        print(type(resultDict), resultDict) #사전\n",
    "    \n",
    "    # tuple, list등등의 형태로 return 가능, 생략가능\n",
    "    return 0"
   ]
  },
  {
   "cell_type": "code",
   "execution_count": 71,
   "metadata": {
    "collapsed": false
   },
   "outputs": [
    {
     "name": "stdout",
     "output_type": "stream",
     "text": [
      "<class 'set'> {66, 68, 41, 47, 81, 20}\n",
      "<class 'list'> [66, 68, 41, 47, 81, 20]\n",
      "<class 'tuple'> (66, 68)\n",
      "<class 'dict'> {'dic2': 68, 'dic1': 66}\n",
      "<class 'set'> {68, 75, 77, 57, 26, 91}\n",
      "<class 'list'> [68, 75, 77, 57, 26, 91]\n",
      "<class 'tuple'> (68, 75)\n",
      "<class 'dict'> {'dic2': 75, 'dic1': 68}\n",
      "<class 'set'> {96, 65, 70, 7, 72, 11}\n",
      "<class 'list'> [96, 65, 70, 7, 72, 11]\n",
      "<class 'tuple'> (96, 65)\n",
      "<class 'dict'> {'dic2': 65, 'dic1': 96}\n"
     ]
    },
    {
     "data": {
      "text/plain": [
       "0"
      ]
     },
     "execution_count": 71,
     "metadata": {},
     "output_type": "execute_result"
    }
   ],
   "source": [
    "# 함수실행 \n",
    "loopExample(3)"
   ]
  },
  {
   "cell_type": "markdown",
   "metadata": {},
   "source": [
    "##### 문법예제 : lambda"
   ]
  },
  {
   "cell_type": "code",
   "execution_count": 72,
   "metadata": {
    "collapsed": false
   },
   "outputs": [
    {
     "data": {
      "text/plain": [
       "27"
      ]
     },
     "execution_count": 72,
     "metadata": {},
     "output_type": "execute_result"
    }
   ],
   "source": [
    "# lambda 함수\n",
    "# 필요한곳 어디에서나 사용가능 / return구문 사용불가 / 한줄실행결과값이 바로 return되는 형태\n",
    "numMul = lambda x,y : x*y\n",
    "numMul(3,9)"
   ]
  },
  {
   "cell_type": "code",
   "execution_count": null,
   "metadata": {
    "collapsed": true
   },
   "outputs": [],
   "source": []
  }
 ],
 "metadata": {
  "anaconda-cloud": {},
  "kernelspec": {
   "display_name": "Python [default]",
   "language": "python",
   "name": "python3"
  },
  "language_info": {
   "codemirror_mode": {
    "name": "ipython",
    "version": 3
   },
   "file_extension": ".py",
   "mimetype": "text/x-python",
   "name": "python",
   "nbconvert_exporter": "python",
   "pygments_lexer": "ipython3",
   "version": "3.5.2"
  }
 },
 "nbformat": 4,
 "nbformat_minor": 1
}
