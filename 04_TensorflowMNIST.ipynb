{
 "cells": [
  {
   "cell_type": "code",
   "execution_count": 4,
   "metadata": {
    "collapsed": false
   },
   "outputs": [
    {
     "name": "stdout",
     "output_type": "stream",
     "text": [
      "Successfully downloaded train-images-idx3-ubyte.gz 9912422 bytes.\n",
      "Extracting MNIST_data/train-images-idx3-ubyte.gz\n",
      "Successfully downloaded train-labels-idx1-ubyte.gz 28881 bytes.\n",
      "Extracting MNIST_data/train-labels-idx1-ubyte.gz\n",
      "Successfully downloaded t10k-images-idx3-ubyte.gz 1648877 bytes.\n",
      "Extracting MNIST_data/t10k-images-idx3-ubyte.gz\n",
      "Successfully downloaded t10k-labels-idx1-ubyte.gz 4542 bytes.\n",
      "Extracting MNIST_data/t10k-labels-idx1-ubyte.gz\n"
     ]
    }
   ],
   "source": [
    "import tensorflow as tf\n",
    "from tensorflow.examples.tutorials.mnist import input_data\n",
    "mnist = input_data.read_data_sets(\"MNIST_data/\", one_hot=True)  \n",
    "\n",
    "# 원-핫 벡터는 단 하나의 차원에서만 1이고, 나머지 차원에서는 0인 벡터\n",
    "# 예를들어 3은 [0,0,0,1,0,0,0,0,0,0]"
   ]
  },
  {
   "cell_type": "markdown",
   "metadata": {},
   "source": [
    "# Overview\n",
    "* MNIST Data\n",
    " * 55,000개의 학습 데이터(mnist.train)\n",
    " * 10,000개의 테스트 데이터(mnist.text)\n",
    " * 5,000개의 검증 데이터(mnist.validation)\n",
    "\n",
    "\n",
    "* 이미지 = xs  ( 28x28 픽셀 )\n",
    "* 이미지에 대한 Label = ys\n",
    " * 학습데이터와 테스트데이터는 모두 xs와 ys를 가짐\n",
    " * ex) 학습이미지 = mnist.train.images\n",
    " * ex) 학습Label = mnist.train.labels\n",
    "\n",
    "* 결국 mnist.train.images는 [55000, 784]의 형태를 가진 텐서(n차원 배열)가 되고\n",
    "* mnist.train.labels는 [55000, 10]의 모양을 같은 실수 배열이 됨\n",
    "\n",
    "* Softmax Regression\n",
    " * "
   ]
  },
  {
   "cell_type": "markdown",
   "metadata": {},
   "source": [
    "   "
   ]
  }
 ],
 "metadata": {
  "anaconda-cloud": {},
  "kernelspec": {
   "display_name": "Python [default]",
   "language": "python",
   "name": "python3"
  },
  "language_info": {
   "codemirror_mode": {
    "name": "ipython",
    "version": 3
   },
   "file_extension": ".py",
   "mimetype": "text/x-python",
   "name": "python",
   "nbconvert_exporter": "python",
   "pygments_lexer": "ipython3",
   "version": "3.5.2"
  }
 },
 "nbformat": 4,
 "nbformat_minor": 1
}
